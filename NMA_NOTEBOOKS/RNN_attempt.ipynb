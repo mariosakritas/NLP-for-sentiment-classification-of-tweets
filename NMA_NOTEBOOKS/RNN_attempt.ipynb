{
 "cells": [
  {
   "cell_type": "code",
   "execution_count": null,
   "metadata": {
    "id": "wmPpKQpuad2O"
   },
   "outputs": [],
   "source": [
    "import os, sys, pickle, urllib.request\n",
    "from sklearn import feature_extraction\n",
    "import pandas as pd\n",
    "import numpy as np\n",
    "import matplotlib.pyplot as plt\n",
    "from collections import Counter"
   ]
  },
  {
   "cell_type": "code",
   "execution_count": null,
   "metadata": {
    "colab": {
     "base_uri": "https://localhost:8080/"
    },
    "id": "BegVywcHao_g",
    "outputId": "cf64efae-9911-473a-f947-f15930bdb294"
   },
   "outputs": [
    {
     "name": "stdout",
     "output_type": "stream",
     "text": [
      "--2022-07-15 15:12:26--  https://www.dropbox.com/s/14qo41yp8gc2549/merged_training.pkl?dl=0\n",
      "Resolving www.dropbox.com (www.dropbox.com)... 162.125.81.18, 2620:100:6031:18::a27d:5112\n",
      "Connecting to www.dropbox.com (www.dropbox.com)|162.125.81.18|:443... connected.\n",
      "HTTP request sent, awaiting response... 301 Moved Permanently\n",
      "Location: /s/raw/14qo41yp8gc2549/merged_training.pkl [following]\n",
      "--2022-07-15 15:12:26--  https://www.dropbox.com/s/raw/14qo41yp8gc2549/merged_training.pkl\n",
      "Reusing existing connection to www.dropbox.com:443.\n",
      "HTTP request sent, awaiting response... 302 Found\n",
      "Location: https://uced4b3a0bcfa7d022fc7c0584b0.dl.dropboxusercontent.com/cd/0/inline/BpJPcty6egLQJA_wXNq1PXa8BatRyTlLu8if8FiFncwDoICMxJyglXYvs9YDoFwiy5S5CPvWqPikJS6aQoGOK-wYhWpv2-hYNtv4HBY_bsFA20VpkTtA0hJPTb2f8FmQvVhtz3qMOmPlEVW66MQOyZcoPlY1jODrV0tIgq3esnglxw/file# [following]\n",
      "--2022-07-15 15:12:27--  https://uced4b3a0bcfa7d022fc7c0584b0.dl.dropboxusercontent.com/cd/0/inline/BpJPcty6egLQJA_wXNq1PXa8BatRyTlLu8if8FiFncwDoICMxJyglXYvs9YDoFwiy5S5CPvWqPikJS6aQoGOK-wYhWpv2-hYNtv4HBY_bsFA20VpkTtA0hJPTb2f8FmQvVhtz3qMOmPlEVW66MQOyZcoPlY1jODrV0tIgq3esnglxw/file\n",
      "Resolving uced4b3a0bcfa7d022fc7c0584b0.dl.dropboxusercontent.com (uced4b3a0bcfa7d022fc7c0584b0.dl.dropboxusercontent.com)... 162.125.81.15, 2620:100:6030:15::a27d:500f\n",
      "Connecting to uced4b3a0bcfa7d022fc7c0584b0.dl.dropboxusercontent.com (uced4b3a0bcfa7d022fc7c0584b0.dl.dropboxusercontent.com)|162.125.81.15|:443... connected.\n",
      "HTTP request sent, awaiting response... 302 Found\n",
      "Location: /cd/0/inline2/BpJb1O-YmMl45uBJzraiJyM54kKWCGNF5aJkHA5-KB0fu_gczh1T48NqZ829bnLSTIkwEIh20z4Uf7Rk2QW38rl3tkj1FvXqfrwt3XrFDz1HCzC-YISCuNM8hcfXpTyo7vqihYVUhWaRbM6KTUq151y7ZvOJ8oAsKa-JFp1C2AHutxhVkE-cFHiU-7JWjnxmiSWn_QWU-QM90r2HX-WTUIGcuirux0HcrGaLodhGhGVEFxAMinrY9umCSWWIlx1iW4ump8LiMEiZPWx6S28ht-HpKzy8ZzAKpgMtDb0iHTJ4WCHPbHO1zU9YuJw8XG-avNjTN2RjcVtpHpftQHfab5DR7WqbseIoDa9-w16WT6li_Jfdk03aCOIz5JSb5s5dCK6v-8CbH_jG96ZYLDS02GJxZvpZVYA1S_qOHehbeMtQaQ/file [following]\n",
      "--2022-07-15 15:12:28--  https://uced4b3a0bcfa7d022fc7c0584b0.dl.dropboxusercontent.com/cd/0/inline2/BpJb1O-YmMl45uBJzraiJyM54kKWCGNF5aJkHA5-KB0fu_gczh1T48NqZ829bnLSTIkwEIh20z4Uf7Rk2QW38rl3tkj1FvXqfrwt3XrFDz1HCzC-YISCuNM8hcfXpTyo7vqihYVUhWaRbM6KTUq151y7ZvOJ8oAsKa-JFp1C2AHutxhVkE-cFHiU-7JWjnxmiSWn_QWU-QM90r2HX-WTUIGcuirux0HcrGaLodhGhGVEFxAMinrY9umCSWWIlx1iW4ump8LiMEiZPWx6S28ht-HpKzy8ZzAKpgMtDb0iHTJ4WCHPbHO1zU9YuJw8XG-avNjTN2RjcVtpHpftQHfab5DR7WqbseIoDa9-w16WT6li_Jfdk03aCOIz5JSb5s5dCK6v-8CbH_jG96ZYLDS02GJxZvpZVYA1S_qOHehbeMtQaQ/file\n",
      "Reusing existing connection to uced4b3a0bcfa7d022fc7c0584b0.dl.dropboxusercontent.com:443.\n",
      "HTTP request sent, awaiting response... 200 OK\n",
      "Length: 49991846 (48M) [application/octet-stream]\n",
      "Saving to: ‘/root/data/merged_training.pkl’\n",
      "\n",
      "/root/data/merged_t 100%[===================>]  47.68M  14.7MB/s    in 3.4s    \n",
      "\n",
      "2022-07-15 15:12:32 (13.9 MB/s) - ‘/root/data/merged_training.pkl’ saved [49991846/49991846]\n",
      "\n"
     ]
    }
   ],
   "source": [
    "!mkdir /root/data/\n",
    "\n",
    "# the link is from the dropbox data folder\n",
    "\n",
    "if not os.path.isfile('/root/data/merged_training.pkl'):\n",
    "  !wget 'https://www.dropbox.com/s/14qo41yp8gc2549/merged_training.pkl?dl=0' -O /root/data/merged_training.pkl\n",
    "else:\n",
    "  print('Training data exists.')"
   ]
  },
  {
   "cell_type": "code",
   "execution_count": null,
   "metadata": {
    "colab": {
     "base_uri": "https://localhost:8080/",
     "height": 424.0
    },
    "id": "rdc-4c3YawoE",
    "outputId": "92338037-f93d-42e0-d987-a18623785056"
   },
   "outputs": [
    {
     "data": {
      "text/html": [
       "\n",
       "  <div id=\"df-abe365b5-8925-4342-a42d-7311718d0ce9\">\n",
       "    <div class=\"colab-df-container\">\n",
       "      <div>\n",
       "<style scoped>\n",
       "    .dataframe tbody tr th:only-of-type {\n",
       "        vertical-align: middle;\n",
       "    }\n",
       "\n",
       "    .dataframe tbody tr th {\n",
       "        vertical-align: top;\n",
       "    }\n",
       "\n",
       "    .dataframe thead th {\n",
       "        text-align: right;\n",
       "    }\n",
       "</style>\n",
       "<table border=\"1\" class=\"dataframe\">\n",
       "  <thead>\n",
       "    <tr style=\"text-align: right;\">\n",
       "      <th></th>\n",
       "      <th>text</th>\n",
       "      <th>emotions</th>\n",
       "    </tr>\n",
       "  </thead>\n",
       "  <tbody>\n",
       "    <tr>\n",
       "      <th>27383</th>\n",
       "      <td>i feel awful about it too because it s my job ...</td>\n",
       "      <td>sadness</td>\n",
       "    </tr>\n",
       "    <tr>\n",
       "      <th>110083</th>\n",
       "      <td>im alone i feel awful</td>\n",
       "      <td>sadness</td>\n",
       "    </tr>\n",
       "    <tr>\n",
       "      <th>140764</th>\n",
       "      <td>ive probably mentioned this before but i reall...</td>\n",
       "      <td>joy</td>\n",
       "    </tr>\n",
       "    <tr>\n",
       "      <th>100071</th>\n",
       "      <td>i was feeling a little low few days back</td>\n",
       "      <td>sadness</td>\n",
       "    </tr>\n",
       "    <tr>\n",
       "      <th>2837</th>\n",
       "      <td>i beleive that i am much more sensitive to oth...</td>\n",
       "      <td>love</td>\n",
       "    </tr>\n",
       "    <tr>\n",
       "      <th>...</th>\n",
       "      <td>...</td>\n",
       "      <td>...</td>\n",
       "    </tr>\n",
       "    <tr>\n",
       "      <th>566</th>\n",
       "      <td>that was what i felt when i was finally accept...</td>\n",
       "      <td>joy</td>\n",
       "    </tr>\n",
       "    <tr>\n",
       "      <th>36236</th>\n",
       "      <td>i take every day as it comes i m just focussin...</td>\n",
       "      <td>fear</td>\n",
       "    </tr>\n",
       "    <tr>\n",
       "      <th>76229</th>\n",
       "      <td>i just suddenly feel that everything was fake</td>\n",
       "      <td>sadness</td>\n",
       "    </tr>\n",
       "    <tr>\n",
       "      <th>131640</th>\n",
       "      <td>im feeling more eager than ever to claw back w...</td>\n",
       "      <td>joy</td>\n",
       "    </tr>\n",
       "    <tr>\n",
       "      <th>64703</th>\n",
       "      <td>i give you plenty of attention even when i fee...</td>\n",
       "      <td>sadness</td>\n",
       "    </tr>\n",
       "  </tbody>\n",
       "</table>\n",
       "<p>416809 rows × 2 columns</p>\n",
       "</div>\n",
       "      <button class=\"colab-df-convert\" onclick=\"convertToInteractive('df-abe365b5-8925-4342-a42d-7311718d0ce9')\"\n",
       "              title=\"Convert this dataframe to an interactive table.\"\n",
       "              style=\"display:none;\">\n",
       "        \n",
       "  <svg xmlns=\"http://www.w3.org/2000/svg\" height=\"24px\"viewBox=\"0 0 24 24\"\n",
       "       width=\"24px\">\n",
       "    <path d=\"M0 0h24v24H0V0z\" fill=\"none\"/>\n",
       "    <path d=\"M18.56 5.44l.94 2.06.94-2.06 2.06-.94-2.06-.94-.94-2.06-.94 2.06-2.06.94zm-11 1L8.5 8.5l.94-2.06 2.06-.94-2.06-.94L8.5 2.5l-.94 2.06-2.06.94zm10 10l.94 2.06.94-2.06 2.06-.94-2.06-.94-.94-2.06-.94 2.06-2.06.94z\"/><path d=\"M17.41 7.96l-1.37-1.37c-.4-.4-.92-.59-1.43-.59-.52 0-1.04.2-1.43.59L10.3 9.45l-7.72 7.72c-.78.78-.78 2.05 0 2.83L4 21.41c.39.39.9.59 1.41.59.51 0 1.02-.2 1.41-.59l7.78-7.78 2.81-2.81c.8-.78.8-2.07 0-2.86zM5.41 20L4 18.59l7.72-7.72 1.47 1.35L5.41 20z\"/>\n",
       "  </svg>\n",
       "      </button>\n",
       "      \n",
       "  <style>\n",
       "    .colab-df-container {\n",
       "      display:flex;\n",
       "      flex-wrap:wrap;\n",
       "      gap: 12px;\n",
       "    }\n",
       "\n",
       "    .colab-df-convert {\n",
       "      background-color: #E8F0FE;\n",
       "      border: none;\n",
       "      border-radius: 50%;\n",
       "      cursor: pointer;\n",
       "      display: none;\n",
       "      fill: #1967D2;\n",
       "      height: 32px;\n",
       "      padding: 0 0 0 0;\n",
       "      width: 32px;\n",
       "    }\n",
       "\n",
       "    .colab-df-convert:hover {\n",
       "      background-color: #E2EBFA;\n",
       "      box-shadow: 0px 1px 2px rgba(60, 64, 67, 0.3), 0px 1px 3px 1px rgba(60, 64, 67, 0.15);\n",
       "      fill: #174EA6;\n",
       "    }\n",
       "\n",
       "    [theme=dark] .colab-df-convert {\n",
       "      background-color: #3B4455;\n",
       "      fill: #D2E3FC;\n",
       "    }\n",
       "\n",
       "    [theme=dark] .colab-df-convert:hover {\n",
       "      background-color: #434B5C;\n",
       "      box-shadow: 0px 1px 3px 1px rgba(0, 0, 0, 0.15);\n",
       "      filter: drop-shadow(0px 1px 2px rgba(0, 0, 0, 0.3));\n",
       "      fill: #FFFFFF;\n",
       "    }\n",
       "  </style>\n",
       "\n",
       "      <script>\n",
       "        const buttonEl =\n",
       "          document.querySelector('#df-abe365b5-8925-4342-a42d-7311718d0ce9 button.colab-df-convert');\n",
       "        buttonEl.style.display =\n",
       "          google.colab.kernel.accessAllowed ? 'block' : 'none';\n",
       "\n",
       "        async function convertToInteractive(key) {\n",
       "          const element = document.querySelector('#df-abe365b5-8925-4342-a42d-7311718d0ce9');\n",
       "          const dataTable =\n",
       "            await google.colab.kernel.invokeFunction('convertToInteractive',\n",
       "                                                     [key], {});\n",
       "          if (!dataTable) return;\n",
       "\n",
       "          const docLinkHtml = 'Like what you see? Visit the ' +\n",
       "            '<a target=\"_blank\" href=https://colab.research.google.com/notebooks/data_table.ipynb>data table notebook</a>'\n",
       "            + ' to learn more about interactive tables.';\n",
       "          element.innerHTML = '';\n",
       "          dataTable['output_type'] = 'display_data';\n",
       "          await google.colab.output.renderOutput(dataTable, element);\n",
       "          const docLink = document.createElement('div');\n",
       "          docLink.innerHTML = docLinkHtml;\n",
       "          element.appendChild(docLink);\n",
       "        }\n",
       "      </script>\n",
       "    </div>\n",
       "  </div>\n",
       "  "
      ],
      "text/plain": [
       "                                                     text emotions\n",
       "27383   i feel awful about it too because it s my job ...  sadness\n",
       "110083                              im alone i feel awful  sadness\n",
       "140764  ive probably mentioned this before but i reall...      joy\n",
       "100071           i was feeling a little low few days back  sadness\n",
       "2837    i beleive that i am much more sensitive to oth...     love\n",
       "...                                                   ...      ...\n",
       "566     that was what i felt when i was finally accept...      joy\n",
       "36236   i take every day as it comes i m just focussin...     fear\n",
       "76229       i just suddenly feel that everything was fake  sadness\n",
       "131640  im feeling more eager than ever to claw back w...      joy\n",
       "64703   i give you plenty of attention even when i fee...  sadness\n",
       "\n",
       "[416809 rows x 2 columns]"
      ]
     },
     "execution_count": 3,
     "metadata": {},
     "output_type": "execute_result"
    }
   ],
   "source": [
    "with open('/root/data/merged_training.pkl', 'rb') as obj:\n",
    "  training_data = pickle.load(obj)\n",
    "\n",
    "training_data"
   ]
  },
  {
   "cell_type": "code",
   "execution_count": null,
   "metadata": {
    "colab": {
     "base_uri": "https://localhost:8080/"
    },
    "id": "tPUssLGpayg_",
    "outputId": "0aa52766-7749-4468-9ccc-608c712ea19c"
   },
   "outputs": [
    {
     "name": "stdout",
     "output_type": "stream",
     "text": [
      "Size of the training data: (416809, 2)\n"
     ]
    }
   ],
   "source": [
    "print(f'Size of the training data: {training_data.shape}')"
   ]
  },
  {
   "cell_type": "code",
   "execution_count": null,
   "metadata": {
    "id": "vjMbnu12a5gO"
   },
   "outputs": [],
   "source": [
    "#FOR EXPLORATORY ANALYSIS PLEASEE REFER TO FIRST_LANDING! HERE WE DOIN' HARDCORE STUFF"
   ]
  },
  {
   "cell_type": "code",
   "execution_count": null,
   "metadata": {
    "id": "DZ2nD6qEbTUm"
   },
   "outputs": [],
   "source": [
    ""
   ]
  }
 ],
 "metadata": {
  "colab": {
   "name": "RNN_attempt.ipynb",
   "provenance": [],
   "collapsed_sections": []
  },
  "kernelspec": {
   "name": "python3",
   "display_name": "Python 3"
  },
  "language_info": {
   "name": "python"
  }
 },
 "nbformat": 4,
 "nbformat_minor": 0
}
